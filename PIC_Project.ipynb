{
  "nbformat": 4,
  "nbformat_minor": 0,
  "metadata": {
    "colab": {
      "provenance": [],
      "gpuType": "T4",
      "mount_file_id": "1xrIhMYpCu3jDrvtTr628lDu7femSaadf",
      "authorship_tag": "ABX9TyMS+Isi2yghQD5B+BYAsuIW",
      "include_colab_link": true
    },
    "kernelspec": {
      "name": "python3",
      "display_name": "Python 3"
    },
    "language_info": {
      "name": "python"
    },
    "accelerator": "GPU",
    "widgets": {
      "application/vnd.jupyter.widget-state+json": {
        "c43d894ac66447fa917f5a796221d799": {
          "model_module": "@jupyter-widgets/controls",
          "model_name": "HBoxModel",
          "model_module_version": "1.5.0",
          "state": {
            "_dom_classes": [],
            "_model_module": "@jupyter-widgets/controls",
            "_model_module_version": "1.5.0",
            "_model_name": "HBoxModel",
            "_view_count": null,
            "_view_module": "@jupyter-widgets/controls",
            "_view_module_version": "1.5.0",
            "_view_name": "HBoxView",
            "box_style": "",
            "children": [
              "IPY_MODEL_64151855e28c471fbf997bbd6eeb53f0",
              "IPY_MODEL_f53764bb92ce4351b6c5578f2ebe6733",
              "IPY_MODEL_ac49776194ff423dab8e4f8fd46ac216"
            ],
            "layout": "IPY_MODEL_b0a48e12d98d4e61b4a7d1788a7608df"
          }
        },
        "64151855e28c471fbf997bbd6eeb53f0": {
          "model_module": "@jupyter-widgets/controls",
          "model_name": "HTMLModel",
          "model_module_version": "1.5.0",
          "state": {
            "_dom_classes": [],
            "_model_module": "@jupyter-widgets/controls",
            "_model_module_version": "1.5.0",
            "_model_name": "HTMLModel",
            "_view_count": null,
            "_view_module": "@jupyter-widgets/controls",
            "_view_module_version": "1.5.0",
            "_view_name": "HTMLView",
            "description": "",
            "description_tooltip": null,
            "layout": "IPY_MODEL_e60822e21e2c4ba0aaa380b6158941fe",
            "placeholder": "​",
            "style": "IPY_MODEL_7d3a60287b3d4bf1a94aaa169e857c39",
            "value": "model.safetensors: 100%"
          }
        },
        "f53764bb92ce4351b6c5578f2ebe6733": {
          "model_module": "@jupyter-widgets/controls",
          "model_name": "FloatProgressModel",
          "model_module_version": "1.5.0",
          "state": {
            "_dom_classes": [],
            "_model_module": "@jupyter-widgets/controls",
            "_model_module_version": "1.5.0",
            "_model_name": "FloatProgressModel",
            "_view_count": null,
            "_view_module": "@jupyter-widgets/controls",
            "_view_module_version": "1.5.0",
            "_view_name": "ProgressView",
            "bar_style": "success",
            "description": "",
            "description_tooltip": null,
            "layout": "IPY_MODEL_68c2d58cac5e47f9bdd753e96cc4cfb8",
            "max": 352685652,
            "min": 0,
            "orientation": "horizontal",
            "style": "IPY_MODEL_24f79fe134504e9589cba06730d47a53",
            "value": 352685652
          }
        },
        "ac49776194ff423dab8e4f8fd46ac216": {
          "model_module": "@jupyter-widgets/controls",
          "model_name": "HTMLModel",
          "model_module_version": "1.5.0",
          "state": {
            "_dom_classes": [],
            "_model_module": "@jupyter-widgets/controls",
            "_model_module_version": "1.5.0",
            "_model_name": "HTMLModel",
            "_view_count": null,
            "_view_module": "@jupyter-widgets/controls",
            "_view_module_version": "1.5.0",
            "_view_name": "HTMLView",
            "description": "",
            "description_tooltip": null,
            "layout": "IPY_MODEL_aad5d595183846b0bc403fd1058ea19d",
            "placeholder": "​",
            "style": "IPY_MODEL_e09a538df27847df81479444a944a4d2",
            "value": " 353M/353M [00:03&lt;00:00, 101MB/s]"
          }
        },
        "b0a48e12d98d4e61b4a7d1788a7608df": {
          "model_module": "@jupyter-widgets/base",
          "model_name": "LayoutModel",
          "model_module_version": "1.2.0",
          "state": {
            "_model_module": "@jupyter-widgets/base",
            "_model_module_version": "1.2.0",
            "_model_name": "LayoutModel",
            "_view_count": null,
            "_view_module": "@jupyter-widgets/base",
            "_view_module_version": "1.2.0",
            "_view_name": "LayoutView",
            "align_content": null,
            "align_items": null,
            "align_self": null,
            "border": null,
            "bottom": null,
            "display": null,
            "flex": null,
            "flex_flow": null,
            "grid_area": null,
            "grid_auto_columns": null,
            "grid_auto_flow": null,
            "grid_auto_rows": null,
            "grid_column": null,
            "grid_gap": null,
            "grid_row": null,
            "grid_template_areas": null,
            "grid_template_columns": null,
            "grid_template_rows": null,
            "height": null,
            "justify_content": null,
            "justify_items": null,
            "left": null,
            "margin": null,
            "max_height": null,
            "max_width": null,
            "min_height": null,
            "min_width": null,
            "object_fit": null,
            "object_position": null,
            "order": null,
            "overflow": null,
            "overflow_x": null,
            "overflow_y": null,
            "padding": null,
            "right": null,
            "top": null,
            "visibility": null,
            "width": null
          }
        },
        "e60822e21e2c4ba0aaa380b6158941fe": {
          "model_module": "@jupyter-widgets/base",
          "model_name": "LayoutModel",
          "model_module_version": "1.2.0",
          "state": {
            "_model_module": "@jupyter-widgets/base",
            "_model_module_version": "1.2.0",
            "_model_name": "LayoutModel",
            "_view_count": null,
            "_view_module": "@jupyter-widgets/base",
            "_view_module_version": "1.2.0",
            "_view_name": "LayoutView",
            "align_content": null,
            "align_items": null,
            "align_self": null,
            "border": null,
            "bottom": null,
            "display": null,
            "flex": null,
            "flex_flow": null,
            "grid_area": null,
            "grid_auto_columns": null,
            "grid_auto_flow": null,
            "grid_auto_rows": null,
            "grid_column": null,
            "grid_gap": null,
            "grid_row": null,
            "grid_template_areas": null,
            "grid_template_columns": null,
            "grid_template_rows": null,
            "height": null,
            "justify_content": null,
            "justify_items": null,
            "left": null,
            "margin": null,
            "max_height": null,
            "max_width": null,
            "min_height": null,
            "min_width": null,
            "object_fit": null,
            "object_position": null,
            "order": null,
            "overflow": null,
            "overflow_x": null,
            "overflow_y": null,
            "padding": null,
            "right": null,
            "top": null,
            "visibility": null,
            "width": null
          }
        },
        "7d3a60287b3d4bf1a94aaa169e857c39": {
          "model_module": "@jupyter-widgets/controls",
          "model_name": "DescriptionStyleModel",
          "model_module_version": "1.5.0",
          "state": {
            "_model_module": "@jupyter-widgets/controls",
            "_model_module_version": "1.5.0",
            "_model_name": "DescriptionStyleModel",
            "_view_count": null,
            "_view_module": "@jupyter-widgets/base",
            "_view_module_version": "1.2.0",
            "_view_name": "StyleView",
            "description_width": ""
          }
        },
        "68c2d58cac5e47f9bdd753e96cc4cfb8": {
          "model_module": "@jupyter-widgets/base",
          "model_name": "LayoutModel",
          "model_module_version": "1.2.0",
          "state": {
            "_model_module": "@jupyter-widgets/base",
            "_model_module_version": "1.2.0",
            "_model_name": "LayoutModel",
            "_view_count": null,
            "_view_module": "@jupyter-widgets/base",
            "_view_module_version": "1.2.0",
            "_view_name": "LayoutView",
            "align_content": null,
            "align_items": null,
            "align_self": null,
            "border": null,
            "bottom": null,
            "display": null,
            "flex": null,
            "flex_flow": null,
            "grid_area": null,
            "grid_auto_columns": null,
            "grid_auto_flow": null,
            "grid_auto_rows": null,
            "grid_column": null,
            "grid_gap": null,
            "grid_row": null,
            "grid_template_areas": null,
            "grid_template_columns": null,
            "grid_template_rows": null,
            "height": null,
            "justify_content": null,
            "justify_items": null,
            "left": null,
            "margin": null,
            "max_height": null,
            "max_width": null,
            "min_height": null,
            "min_width": null,
            "object_fit": null,
            "object_position": null,
            "order": null,
            "overflow": null,
            "overflow_x": null,
            "overflow_y": null,
            "padding": null,
            "right": null,
            "top": null,
            "visibility": null,
            "width": null
          }
        },
        "24f79fe134504e9589cba06730d47a53": {
          "model_module": "@jupyter-widgets/controls",
          "model_name": "ProgressStyleModel",
          "model_module_version": "1.5.0",
          "state": {
            "_model_module": "@jupyter-widgets/controls",
            "_model_module_version": "1.5.0",
            "_model_name": "ProgressStyleModel",
            "_view_count": null,
            "_view_module": "@jupyter-widgets/base",
            "_view_module_version": "1.2.0",
            "_view_name": "StyleView",
            "bar_color": null,
            "description_width": ""
          }
        },
        "aad5d595183846b0bc403fd1058ea19d": {
          "model_module": "@jupyter-widgets/base",
          "model_name": "LayoutModel",
          "model_module_version": "1.2.0",
          "state": {
            "_model_module": "@jupyter-widgets/base",
            "_model_module_version": "1.2.0",
            "_model_name": "LayoutModel",
            "_view_count": null,
            "_view_module": "@jupyter-widgets/base",
            "_view_module_version": "1.2.0",
            "_view_name": "LayoutView",
            "align_content": null,
            "align_items": null,
            "align_self": null,
            "border": null,
            "bottom": null,
            "display": null,
            "flex": null,
            "flex_flow": null,
            "grid_area": null,
            "grid_auto_columns": null,
            "grid_auto_flow": null,
            "grid_auto_rows": null,
            "grid_column": null,
            "grid_gap": null,
            "grid_row": null,
            "grid_template_areas": null,
            "grid_template_columns": null,
            "grid_template_rows": null,
            "height": null,
            "justify_content": null,
            "justify_items": null,
            "left": null,
            "margin": null,
            "max_height": null,
            "max_width": null,
            "min_height": null,
            "min_width": null,
            "object_fit": null,
            "object_position": null,
            "order": null,
            "overflow": null,
            "overflow_x": null,
            "overflow_y": null,
            "padding": null,
            "right": null,
            "top": null,
            "visibility": null,
            "width": null
          }
        },
        "e09a538df27847df81479444a944a4d2": {
          "model_module": "@jupyter-widgets/controls",
          "model_name": "DescriptionStyleModel",
          "model_module_version": "1.5.0",
          "state": {
            "_model_module": "@jupyter-widgets/controls",
            "_model_module_version": "1.5.0",
            "_model_name": "DescriptionStyleModel",
            "_view_count": null,
            "_view_module": "@jupyter-widgets/base",
            "_view_module_version": "1.2.0",
            "_view_name": "StyleView",
            "description_width": ""
          }
        }
      }
    }
  },
  "cells": [
    {
      "cell_type": "markdown",
      "metadata": {
        "id": "view-in-github",
        "colab_type": "text"
      },
      "source": [
        "<a href=\"https://colab.research.google.com/github/shireesh-kumar/Pharmaceutical-Image-Categorization/blob/main/PIC_Project.ipynb\" target=\"_parent\"><img src=\"https://colab.research.google.com/assets/colab-badge.svg\" alt=\"Open In Colab\"/></a>"
      ]
    },
    {
      "cell_type": "markdown",
      "source": [
        "#**PIC - Pharmaceutical Image Categorization**\n",
        "\n",
        "\n"
      ],
      "metadata": {
        "id": "r3V-PCCs7x23"
      }
    },
    {
      "cell_type": "markdown",
      "source": [
        "**1. Installing the required packages**"
      ],
      "metadata": {
        "id": "bNfY1lrJTg6o"
      }
    },
    {
      "cell_type": "code",
      "source": [
        "!pip install timm"
      ],
      "metadata": {
        "id": "Ho4KOdPMMBuC"
      },
      "execution_count": null,
      "outputs": []
    },
    {
      "cell_type": "markdown",
      "source": [
        "**2. Data Preprocessing**"
      ],
      "metadata": {
        "id": "kL7yFncnT4VN"
      }
    },
    {
      "cell_type": "code",
      "source": [
        "# Define constants\n",
        "LEARNING_RATE = 0.001\n",
        "TRAIN_BATCH_SIZE = 32\n",
        "TEST_BATCH_SIZE = 32\n",
        "NUM_EPOCHS = 30\n",
        "MODEL = 'swin_base_patch4_window7_224'\n",
        "ROOT_DIR = '/content/drive/MyDrive/MEDICAL_DATASET'\n"
      ],
      "metadata": {
        "id": "jJWwuzlILAaC"
      },
      "execution_count": 8,
      "outputs": []
    },
    {
      "cell_type": "code",
      "source": [
        "import numpy as np\n",
        "import itertools\n",
        "import matplotlib.pyplot as plt\n",
        "from sklearn.metrics import confusion_matrix, classification_report\n",
        "from sklearn.metrics import recall_score, precision_score, f1_score\n",
        "from torchvision.transforms import Lambda\n",
        "from PIL import Image\n",
        "\n",
        "\n",
        "import os\n",
        "import torch\n",
        "from torch import nn, optim\n",
        "from torch.optim.lr_scheduler import StepLR\n",
        "from torch.utils.data import DataLoader, random_split\n",
        "from torchvision import datasets, transforms\n",
        "import timm\n",
        "from sklearn.model_selection import train_test_split\n"
      ],
      "metadata": {
        "id": "Ke7MQwCNfdCR"
      },
      "execution_count": 17,
      "outputs": []
    },
    {
      "cell_type": "code",
      "source": [
        "\n",
        "\n",
        "DEVICE = torch.device('cuda' if torch.cuda.is_available() else 'cpu')\n",
        "\n",
        "data_transforms = transforms.Compose([\n",
        "    Lambda(lambda x: x.convert('RGBA') if x.mode == 'P' else x.convert('RGB')),\n",
        "    transforms.Resize((224, 224)),\n",
        "    transforms.ToTensor(),\n",
        "    transforms.Normalize(mean=[0.485, 0.456, 0.406], std=[0.229, 0.224, 0.225]),\n",
        "])\n",
        "\n",
        "image_datasets = datasets.ImageFolder(root=ROOT_DIR, transform=data_transforms)\n",
        "\n",
        "# Split the data into training, validation, and test sets\n",
        "train_data, test_data = train_test_split(image_datasets, test_size=0.2, stratify=image_datasets.targets)\n"
      ],
      "metadata": {
        "id": "EYuN0HuxVTTT"
      },
      "execution_count": null,
      "outputs": []
    },
    {
      "cell_type": "code",
      "source": [
        "# Get the targets of the train_data\n",
        "train_targets = [target for _, target in train_data]\n",
        "\n",
        "# Split the train_data into train_data and val_data\n",
        "train_data, val_data = train_test_split(train_data, test_size=0.25, stratify=train_targets)  # 0.25 x 0.8 = 0.2\n",
        "\n",
        "\n",
        "# Create data loaders\n",
        "train_loader = DataLoader(train_data, batch_size=TRAIN_BATCH_SIZE, shuffle=True)\n",
        "val_loader = DataLoader(val_data, batch_size=TEST_BATCH_SIZE)\n",
        "test_loader = DataLoader(test_data, batch_size=TEST_BATCH_SIZE)"
      ],
      "metadata": {
        "id": "bmY9YvoONGCg"
      },
      "execution_count": 5,
      "outputs": []
    },
    {
      "cell_type": "markdown",
      "source": [
        "**3.Defining the model and traning**\n",
        "\n",
        "\n",
        "\n"
      ],
      "metadata": {
        "id": "cuxG299dUcLQ"
      }
    },
    {
      "cell_type": "code",
      "source": [
        "# Initialize the model\n",
        "base_model = timm.create_model(MODEL, pretrained=True)\n",
        "\n",
        "\n",
        "# Freeze the weights of the base model\n",
        "for param in base_model.parameters():\n",
        "    param.requires_grad = False\n",
        "\n",
        "\n",
        "# Add additional layers\n",
        "model = nn.Sequential(\n",
        "    base_model,\n",
        "    nn.Linear(1000, 2048),\n",
        "    nn.ReLU(),\n",
        "    nn.Linear(2048, 1024),\n",
        "    nn.ReLU(),\n",
        "    nn.Linear(1024, 512),\n",
        "    nn.ReLU(),\n",
        "    nn.Linear(512, len(image_datasets.classes)),\n",
        ")\n",
        "# # Move the model to the GPU\n",
        "# base_model = base_model.to(DEVICE)\n",
        "\n",
        "# Move the additional layers to the GPU\n",
        "model = model.to(DEVICE)\n"
      ],
      "metadata": {
        "colab": {
          "base_uri": "https://localhost:8080/",
          "height": 173,
          "referenced_widgets": [
            "c43d894ac66447fa917f5a796221d799",
            "64151855e28c471fbf997bbd6eeb53f0",
            "f53764bb92ce4351b6c5578f2ebe6733",
            "ac49776194ff423dab8e4f8fd46ac216",
            "b0a48e12d98d4e61b4a7d1788a7608df",
            "e60822e21e2c4ba0aaa380b6158941fe",
            "7d3a60287b3d4bf1a94aaa169e857c39",
            "68c2d58cac5e47f9bdd753e96cc4cfb8",
            "24f79fe134504e9589cba06730d47a53",
            "aad5d595183846b0bc403fd1058ea19d",
            "e09a538df27847df81479444a944a4d2"
          ]
        },
        "id": "bQ3Q8QNSVFbg",
        "outputId": "223cff5d-23a9-4f5f-ab6c-551f19ab1746"
      },
      "execution_count": 9,
      "outputs": [
        {
          "output_type": "stream",
          "name": "stderr",
          "text": [
            "/usr/local/lib/python3.10/dist-packages/huggingface_hub/utils/_token.py:88: UserWarning: \n",
            "The secret `HF_TOKEN` does not exist in your Colab secrets.\n",
            "To authenticate with the Hugging Face Hub, create a token in your settings tab (https://huggingface.co/settings/tokens), set it as secret in your Google Colab and restart your session.\n",
            "You will be able to reuse this secret in all of your notebooks.\n",
            "Please note that authentication is recommended but still optional to access public models or datasets.\n",
            "  warnings.warn(\n"
          ]
        },
        {
          "output_type": "display_data",
          "data": {
            "text/plain": [
              "model.safetensors:   0%|          | 0.00/353M [00:00<?, ?B/s]"
            ],
            "application/vnd.jupyter.widget-view+json": {
              "version_major": 2,
              "version_minor": 0,
              "model_id": "c43d894ac66447fa917f5a796221d799"
            }
          },
          "metadata": {}
        }
      ]
    },
    {
      "cell_type": "code",
      "source": [
        "# Initialize lists to store the loss and accuracy values\n",
        "train_losses = []\n",
        "train_accuracies = []\n",
        "val_losses = []\n",
        "val_accuracies = []\n",
        "\n",
        "\n",
        "# Define the loss function and optimizer\n",
        "criterion = nn.CrossEntropyLoss()\n",
        "# Define the optimizer to only update the non-frozen parameters\n",
        "optimizer = optim.AdamW(filter(lambda p: p.requires_grad, model.parameters()), lr=LEARNING_RATE)\n",
        "\n",
        "# Define the learning rate scheduler\n",
        "scheduler = StepLR(optimizer, step_size=7, gamma=0.1)\n",
        "\n",
        "# Train the model\n",
        "# Initialize a variable to store the best validation accuracy\n",
        "best_val_acc = 0.0\n",
        "model.train()\n",
        "for epoch in range(NUM_EPOCHS):\n",
        "    running_loss = 0.0\n",
        "    correct = 0\n",
        "    total = 0\n",
        "    for inputs, labels in train_loader:\n",
        "        inputs, labels = inputs.to(DEVICE), labels.to(DEVICE)\n",
        "\n",
        "        optimizer.zero_grad()\n",
        "\n",
        "        outputs = model(inputs)\n",
        "        loss = criterion(outputs, labels)\n",
        "        loss.backward()\n",
        "        optimizer.step()\n",
        "        running_loss += loss.item()\n",
        "\n",
        "        _, predicted = torch.max(outputs.data, 1)\n",
        "        total += labels.size(0)\n",
        "        correct += (predicted == labels).sum().item()\n",
        "\n",
        "    # Validate the model\n",
        "    model.eval()\n",
        "    val_loss = 0.0\n",
        "    val_correct = 0\n",
        "    with torch.no_grad():\n",
        "        for inputs, labels in val_loader:\n",
        "            inputs, labels = inputs.to(DEVICE), labels.to(DEVICE)\n",
        "\n",
        "            outputs = model(inputs)\n",
        "            loss = criterion(outputs, labels)\n",
        "\n",
        "            val_loss += loss.item()\n",
        "\n",
        "            _, predicted = torch.max(outputs.data, 1)\n",
        "            val_correct += (predicted == labels).sum().item()\n",
        "\n",
        "    # Store the training loss and accuracy\n",
        "    train_losses.append(running_loss / len(train_loader))\n",
        "    train_accuracies.append(correct / total)\n",
        "\n",
        "    # Store the validation loss and accuracy\n",
        "    val_losses.append(val_loss / len(val_loader))\n",
        "    val_accuracies.append(val_correct / len(val_loader.dataset))\n",
        "    print(f\"Epoch [{epoch + 1}/{NUM_EPOCHS}] Training Loss: {running_loss / len(train_loader)}, Training Accuracy: {correct / total}, Validation Loss: {val_loss / len(val_loader)}, Validation Accuracy: {val_correct / len(val_loader.dataset)}\")\n",
        "\n",
        "\n",
        "    # Inside your training loop, after computing the validation accuracy\n",
        "    val_acc = val_correct / len(val_loader.dataset)\n",
        "\n",
        "    # Check if this model is better than the previous best model\n",
        "    if val_acc > best_val_acc:\n",
        "        best_val_acc = val_acc\n",
        "        torch.save(model.state_dict(), \"best_model.pth\")\n",
        "        print(f\"New best model saved with validation accuracy: {best_val_acc}\")\n",
        "\n",
        "    # Step the scheduler\n",
        "    scheduler.step()\n",
        "\n",
        "    # Set the model back to train mode\n",
        "    model.train()\n"
      ],
      "metadata": {
        "colab": {
          "base_uri": "https://localhost:8080/"
        },
        "id": "Gve77QRjAekV",
        "outputId": "6f3103e1-1aed-45c9-c1e8-658f0e504034"
      },
      "execution_count": 12,
      "outputs": [
        {
          "output_type": "stream",
          "name": "stdout",
          "text": [
            "Epoch [1/30] Training Loss: 0.08173725763789932, Training Accuracy: 0.9857142857142858, Validation Loss: 1.0274871694190162, Validation Accuracy: 0.888095238095238\n",
            "New best model saved with validation accuracy: 0.888095238095238\n",
            "Epoch [2/30] Training Loss: 0.13321205427978527, Training Accuracy: 0.9706349206349206, Validation Loss: 0.27306994714896454, Validation Accuracy: 0.9380952380952381\n",
            "New best model saved with validation accuracy: 0.9380952380952381\n",
            "Epoch [3/30] Training Loss: 0.07584536406611733, Training Accuracy: 0.9841269841269841, Validation Loss: 0.44606448290869594, Validation Accuracy: 0.9214285714285714\n",
            "Epoch [4/30] Training Loss: 0.07610368567056866, Training Accuracy: 0.9809523809523809, Validation Loss: 0.327887816567714, Validation Accuracy: 0.9261904761904762\n",
            "Epoch [5/30] Training Loss: 0.02723714110588844, Training Accuracy: 0.9896825396825397, Validation Loss: 0.34574605837198036, Validation Accuracy: 0.95\n",
            "New best model saved with validation accuracy: 0.95\n",
            "Epoch [6/30] Training Loss: 0.03585899104478472, Training Accuracy: 0.9896825396825397, Validation Loss: 0.40730088379599955, Validation Accuracy: 0.9428571428571428\n",
            "Epoch [7/30] Training Loss: 0.02518537791208022, Training Accuracy: 0.9944444444444445, Validation Loss: 0.5057169222104919, Validation Accuracy: 0.9380952380952381\n",
            "Epoch [8/30] Training Loss: 0.009166482399958698, Training Accuracy: 0.9984126984126984, Validation Loss: 0.47808470078066584, Validation Accuracy: 0.9380952380952381\n",
            "Epoch [9/30] Training Loss: 0.006740646439342512, Training Accuracy: 0.9968253968253968, Validation Loss: 0.4354146323166686, Validation Accuracy: 0.9357142857142857\n",
            "Epoch [10/30] Training Loss: 0.008245507808589991, Training Accuracy: 0.9976190476190476, Validation Loss: 0.40071382233871383, Validation Accuracy: 0.9380952380952381\n",
            "Epoch [11/30] Training Loss: 0.006788529747120719, Training Accuracy: 0.9992063492063492, Validation Loss: 0.3947941228481154, Validation Accuracy: 0.9380952380952381\n",
            "Epoch [12/30] Training Loss: 0.004022295208088167, Training Accuracy: 0.9984126984126984, Validation Loss: 0.40184376402079025, Validation Accuracy: 0.9357142857142857\n",
            "Epoch [13/30] Training Loss: 0.024335330282616495, Training Accuracy: 0.9976190476190476, Validation Loss: 0.3967281503106993, Validation Accuracy: 0.9333333333333333\n",
            "Epoch [14/30] Training Loss: 0.0031676421879112127, Training Accuracy: 0.9984126984126984, Validation Loss: 0.3703270969643638, Validation Accuracy: 0.9357142857142857\n",
            "Epoch [15/30] Training Loss: 0.0005381492328211835, Training Accuracy: 1.0, Validation Loss: 0.36991035698754005, Validation Accuracy: 0.9357142857142857\n",
            "Epoch [16/30] Training Loss: 0.002264239771236731, Training Accuracy: 0.9984126984126984, Validation Loss: 0.3695724372350518, Validation Accuracy: 0.9380952380952381\n",
            "Epoch [17/30] Training Loss: 0.00046033036479116164, Training Accuracy: 1.0, Validation Loss: 0.36930816873353123, Validation Accuracy: 0.9380952380952381\n",
            "Epoch [18/30] Training Loss: 0.0003704215380707865, Training Accuracy: 1.0, Validation Loss: 0.36954343092739755, Validation Accuracy: 0.9380952380952381\n",
            "Epoch [19/30] Training Loss: 0.00016559039360615203, Training Accuracy: 1.0, Validation Loss: 0.3696660386130312, Validation Accuracy: 0.9380952380952381\n",
            "Epoch [20/30] Training Loss: 0.007328042751532848, Training Accuracy: 0.9992063492063492, Validation Loss: 0.36871786748171026, Validation Accuracy: 0.9380952380952381\n",
            "Epoch [21/30] Training Loss: 0.0036621373277853308, Training Accuracy: 0.9992063492063492, Validation Loss: 0.3680382440130643, Validation Accuracy: 0.9380952380952381\n",
            "Epoch [22/30] Training Loss: 0.011026502050074782, Training Accuracy: 0.9968253968253968, Validation Loss: 0.3678316696145722, Validation Accuracy: 0.9380952380952381\n",
            "Epoch [23/30] Training Loss: 0.0005001226442274742, Training Accuracy: 1.0, Validation Loss: 0.36770415565510867, Validation Accuracy: 0.9380952380952381\n",
            "Epoch [24/30] Training Loss: 0.0016587400092589633, Training Accuracy: 0.9992063492063492, Validation Loss: 0.36764730938823015, Validation Accuracy: 0.9380952380952381\n",
            "Epoch [25/30] Training Loss: 0.0006778968662345619, Training Accuracy: 1.0, Validation Loss: 0.3676093329806512, Validation Accuracy: 0.9380952380952381\n",
            "Epoch [26/30] Training Loss: 0.00038219403448209733, Training Accuracy: 1.0, Validation Loss: 0.36759100182493804, Validation Accuracy: 0.9380952380952381\n",
            "Epoch [27/30] Training Loss: 0.0011111713806059242, Training Accuracy: 1.0, Validation Loss: 0.36755385303051263, Validation Accuracy: 0.9380952380952381\n",
            "Epoch [28/30] Training Loss: 0.0017949291770491982, Training Accuracy: 0.9992063492063492, Validation Loss: 0.3674291022385968, Validation Accuracy: 0.9380952380952381\n",
            "Epoch [29/30] Training Loss: 0.002262944090563224, Training Accuracy: 0.9992063492063492, Validation Loss: 0.3674328232048976, Validation Accuracy: 0.9380952380952381\n",
            "Epoch [30/30] Training Loss: 0.005636617044150682, Training Accuracy: 0.9984126984126984, Validation Loss: 0.36744446912760104, Validation Accuracy: 0.9380952380952381\n"
          ]
        }
      ]
    },
    {
      "cell_type": "markdown",
      "source": [
        "**4. Testing and Evaluating the model**"
      ],
      "metadata": {
        "id": "KhtfsnbNUxC3"
      }
    },
    {
      "cell_type": "code",
      "source": [
        "\n",
        "# Load the best model\n",
        "model.load_state_dict(torch.load(\"best_model.pth\"))\n",
        "\n",
        "# Initialize lists to store the true and predicted labels\n",
        "true_labels = []\n",
        "pred_labels = []\n",
        "\n",
        "# Test the model\n",
        "model.eval()\n",
        "test_correct = 0\n",
        "with torch.no_grad():\n",
        "    for inputs, labels in test_loader:\n",
        "        inputs, labels = inputs.to(DEVICE), labels.to(DEVICE)\n",
        "\n",
        "        outputs = model(inputs)\n",
        "        _, predicted = torch.max(outputs.data, 1)\n",
        "        test_correct += (predicted == labels).sum().item()\n",
        "\n",
        "        # Store the true and predicted labels for confusion matrix\n",
        "        true_labels.extend(labels.cpu().numpy())\n",
        "        pred_labels.extend(predicted.cpu().numpy())\n",
        "\n",
        "print(f\"Test Accuracy: {test_correct / len(test_loader.dataset)}\")\n",
        "\n",
        "# Compute the confusion matrix\n",
        "from sklearn.metrics import confusion_matrix\n",
        "cm = confusion_matrix(true_labels, pred_labels)\n",
        "print(\"Confusion Matrix:\")\n",
        "\n",
        "np.set_printoptions(precision=2)\n",
        "\n",
        "# Create a heatmap from the confusion matrix\n",
        "class_names = ['class 0', 'class 1', 'class 2', 'class 3','class 4','class 5','class 6'] # change this to match your dataset\n",
        "fig, ax = plt.subplots()\n",
        "im = ax.imshow(cm, interpolation='nearest', cmap=plt.cm.Blues)\n",
        "ax.figure.colorbar(im, ax=ax)\n",
        "ax.set(xticks=np.arange(cm.shape[1]),\n",
        "       yticks=np.arange(cm.shape[0]),\n",
        "       xticklabels=class_names, yticklabels=class_names,\n",
        "       title='Confusion matrix',\n",
        "       ylabel='True label',\n",
        "       xlabel='Predicted label')\n",
        "\n",
        "# Rotate the tick labels and set their alignment\n",
        "plt.setp(ax.get_xticklabels(), rotation=45, ha=\"right\",\n",
        "         rotation_mode=\"anchor\")\n",
        "\n",
        "# Loop over data dimensions and create text annotations\n",
        "fmt = 'd'\n",
        "thresh = cm.max() / 2.\n",
        "for i, j in itertools.product(range(cm.shape[0]), range(cm.shape[1])):\n",
        "    ax.text(j, i, format(cm[i, j], fmt),\n",
        "            ha=\"center\", va=\"center\",\n",
        "            color=\"white\" if cm[i, j] > thresh else \"black\")\n",
        "\n",
        "fig.tight_layout()\n",
        "plt.show()\n",
        "\n",
        "# Compute recall, precision, and F1 score\n",
        "recall = recall_score(true_labels, pred_labels, average='macro')\n",
        "precision = precision_score(true_labels, pred_labels, average='macro')\n",
        "f1 = f1_score(true_labels, pred_labels, average='macro')\n",
        "\n",
        "print(f\"Recall: {recall}\")\n",
        "print(f\"Precision: {precision}\")\n",
        "print(f\"F1 score: {f1}\")\n",
        "\n",
        "# Compute classification report\n",
        "target_names = ['class 0', 'class 1', 'class 2', 'class 3','class 4','class 5','class 6'] # change this to match your dataset\n",
        "report = classification_report(true_labels, pred_labels, target_names=target_names)\n",
        "print(report)\n"
      ],
      "metadata": {
        "id": "j7iFDVwVndK-",
        "colab": {
          "base_uri": "https://localhost:8080/",
          "height": 817
        },
        "outputId": "883692ac-d9ed-4f57-e5c4-494220cc0f06"
      },
      "execution_count": 19,
      "outputs": [
        {
          "output_type": "stream",
          "name": "stdout",
          "text": [
            "Test Accuracy: 0.9476190476190476\n",
            "Confusion Matrix:\n"
          ]
        },
        {
          "output_type": "display_data",
          "data": {
            "text/plain": [
              "<Figure size 640x480 with 2 Axes>"
            ],
            "image/png": "[encoded data removed]"
          },
          "metadata": {}
        },
        {
          "output_type": "stream",
          "name": "stdout",
          "text": [
            "Recall: 0.9476190476190477\n",
            "Precision: 0.9478038287185543\n",
            "F1 score: 0.9468552875608288\n",
            "              precision    recall  f1-score   support\n",
            "\n",
            "     class 0       0.97      0.97      0.97        60\n",
            "     class 1       0.98      0.97      0.97        60\n",
            "     class 2       0.88      0.93      0.90        60\n",
            "     class 3       0.98      1.00      0.99        60\n",
            "     class 4       0.92      0.80      0.86        60\n",
            "     class 5       0.94      0.97      0.95        60\n",
            "     class 6       0.97      1.00      0.98        60\n",
            "\n",
            "    accuracy                           0.95       420\n",
            "   macro avg       0.95      0.95      0.95       420\n",
            "weighted avg       0.95      0.95      0.95       420\n",
            "\n"
          ]
        }
      ]
    },
    {
      "cell_type": "code",
      "source": [
        "# Plot the training and validation loss\n",
        "plt.figure()\n",
        "plt.plot(train_losses, label='Training Loss')\n",
        "plt.plot(val_losses, label='Validation Loss')\n",
        "plt.xlabel('Epoch')\n",
        "plt.ylabel('Loss')\n",
        "plt.legend()\n",
        "plt.show()\n",
        "\n",
        "# Plot the training and validation accuracy\n",
        "plt.figure()\n",
        "plt.plot(train_accuracies, label='Training Accuracy')\n",
        "plt.plot(val_accuracies, label='Validation Accuracy')\n",
        "plt.xlabel('Epoch')\n",
        "plt.ylabel('Accuracy')\n",
        "plt.legend()\n",
        "plt.show()"
      ],
      "metadata": {
        "id": "EdtNuO69PYiO",
        "colab": {
          "base_uri": "https://localhost:8080/",
          "height": 881
        },
        "outputId": "f6794340-d501-4b5d-9144-2ef1792a0f6c"
      },
      "execution_count": 16,
      "outputs": [
        {
          "output_type": "display_data",
          "data": {
            "text/plain": [
              "<Figure size 640x480 with 1 Axes>"
            ],
            "image/png": "[encoded data removed]"
          },
          "metadata": {}
        },
        {
          "output_type": "display_data",
          "data": {
            "text/plain": [
              "<Figure size 640x480 with 1 Axes>"
            ],
            "image/png": "[encoded data removed]"
          },
          "metadata": {}
        }
      ]
    },
    {
      "cell_type": "code",
      "source": [],
      "metadata": {
        "id": "3RJyiV-TfSRc"
      },
      "execution_count": null,
      "outputs": []
    }
  ]
}