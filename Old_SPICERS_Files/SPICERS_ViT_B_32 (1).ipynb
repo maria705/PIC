{
  "nbformat": 4,
  "nbformat_minor": 0,
  "metadata": {
    "colab": {
      "provenance": [],
      "gpuType": "T4"
    },
    "kernelspec": {
      "name": "python3",
      "display_name": "Python 3"
    },
    "language_info": {
      "name": "python"
    },
    "accelerator": "GPU"
  },
  "cells": [
    {
      "cell_type": "code",
      "execution_count": null,
      "metadata": {
        "id": "30o43RRZuahL"
      },
      "outputs": [],
      "source": [
        "# Generic # 32 patch 20 Epochs\n",
        "import numpy as np\n",
        "import os\n",
        "from PIL import Image\n",
        "import matplotlib.pyplot as plt\n",
        "from sklearn.metrics import confusion_matrix\n",
        "import seaborn as sns\n",
        "\n",
        "# PyTorch\n",
        "import torch\n",
        "import torch.nn as nn\n",
        "import torch.optim as optim\n",
        "from torch.utils.data import DataLoader, TensorDataset\n",
        "from sklearn.model_selection import train_test_split\n",
        "\n",
        "# TensorFlow\n",
        "from transformers import ViTFeatureExtractor, ViTForImageClassification\n",
        "\n",
        "# Device configuration\n",
        "device = torch.device('cuda' if torch.cuda.is_available() else 'cpu')\n"
      ]
    },
    {
      "cell_type": "code",
      "source": [
        "# Dataset parameters\n",
        "dataset_path = '/content/drive/MyDrive/Dataset'\n",
        "categories = ['Tablet_Sheets', 'Ointments', 'Medicine_Bottles', 'Face_Masks', 'Syringes', 'Covid_Test_Kits', 'Asthma_Inhalers']\n",
        "risks = ['High_Risk', 'Medium_Risk', 'Low_Risk']\n",
        "image_size = (224, 224)\n",
        "\n",
        "# Data preprocessing\n",
        "X = []\n",
        "y = []\n",
        "\n",
        "for category in categories:\n",
        "    for risk in risks:\n",
        "        risk_path = os.path.join(dataset_path, category, risk)\n",
        "        for image_file in os.listdir(risk_path):\n",
        "            image = Image.open(os.path.join(risk_path, image_file))\n",
        "            if image.mode == 'RGBA':\n",
        "                image = image.convert('RGB')\n",
        "\n",
        "            # Resize the image\n",
        "            image = image.resize(image_size)\n",
        "            # Convert to numpy array and reshape to include channel dimension\n",
        "            image = np.array(image)\n",
        "            image = np.transpose(image, (2, 0, 1))  # Swap dimensions to (channels, height, width)\n",
        "            X.append(image)\n",
        "            y.append(risks.index(risk))\n",
        "\n",
        "# Convert the lists to numpy arrays\n",
        "X = np.array(X)\n",
        "y = np.array(y)\n",
        "\n",
        "# Normalize the pixel values to be between 0 and 1\n",
        "X = X / 255.0\n",
        "\n",
        "# Convert data to PyTorch tensors\n",
        "X_tensor = torch.tensor(X, dtype=torch.float32)\n",
        "y_tensor = torch.tensor(y, dtype=torch.long)\n",
        "\n",
        "# Create dataset and DataLoader\n",
        "dataset = TensorDataset(X_tensor, y_tensor)\n",
        "\n",
        "# Split the dataset into train, validation, and test sets\n",
        "train_size = int(0.6 * len(dataset))\n",
        "val_size = int(0.2 * len(dataset))\n",
        "test_size = len(dataset) - train_size - val_size\n",
        "\n",
        "train_dataset, val_dataset, test_dataset = torch.utils.data.random_split(dataset, [train_size, val_size, test_size])"
      ],
      "metadata": {
        "id": "g0KMaNavvIjE",
        "colab": {
          "base_uri": "https://localhost:8080/",
          "height": 216
        },
        "outputId": "5460b596-7b7a-4a04-88c8-5cf8ce816322"
      },
      "execution_count": null,
      "outputs": [
        {
          "output_type": "error",
          "ename": "FileNotFoundError",
          "evalue": "[Errno 2] No such file or directory: '/content/drive/MyDrive/Dataset/Tablet_Sheets/High_Risk'",
          "traceback": [
            "\u001b[0;31m---------------------------------------------------------------------------\u001b[0m",
            "\u001b[0;31mFileNotFoundError\u001b[0m                         Traceback (most recent call last)",
            "\u001b[0;32m<ipython-input-6-421166905857>\u001b[0m in \u001b[0;36m<cell line: 11>\u001b[0;34m()\u001b[0m\n\u001b[1;32m     12\u001b[0m     \u001b[0;32mfor\u001b[0m \u001b[0mrisk\u001b[0m \u001b[0;32min\u001b[0m \u001b[0mrisks\u001b[0m\u001b[0;34m:\u001b[0m\u001b[0;34m\u001b[0m\u001b[0;34m\u001b[0m\u001b[0m\n\u001b[1;32m     13\u001b[0m         \u001b[0mrisk_path\u001b[0m \u001b[0;34m=\u001b[0m \u001b[0mos\u001b[0m\u001b[0;34m.\u001b[0m\u001b[0mpath\u001b[0m\u001b[0;34m.\u001b[0m\u001b[0mjoin\u001b[0m\u001b[0;34m(\u001b[0m\u001b[0mdataset_path\u001b[0m\u001b[0;34m,\u001b[0m \u001b[0mcategory\u001b[0m\u001b[0;34m,\u001b[0m \u001b[0mrisk\u001b[0m\u001b[0;34m)\u001b[0m\u001b[0;34m\u001b[0m\u001b[0;34m\u001b[0m\u001b[0m\n\u001b[0;32m---> 14\u001b[0;31m         \u001b[0;32mfor\u001b[0m \u001b[0mimage_file\u001b[0m \u001b[0;32min\u001b[0m \u001b[0mos\u001b[0m\u001b[0;34m.\u001b[0m\u001b[0mlistdir\u001b[0m\u001b[0;34m(\u001b[0m\u001b[0mrisk_path\u001b[0m\u001b[0;34m)\u001b[0m\u001b[0;34m:\u001b[0m\u001b[0;34m\u001b[0m\u001b[0;34m\u001b[0m\u001b[0m\n\u001b[0m\u001b[1;32m     15\u001b[0m             \u001b[0mimage\u001b[0m \u001b[0;34m=\u001b[0m \u001b[0mImage\u001b[0m\u001b[0;34m.\u001b[0m\u001b[0mopen\u001b[0m\u001b[0;34m(\u001b[0m\u001b[0mos\u001b[0m\u001b[0;34m.\u001b[0m\u001b[0mpath\u001b[0m\u001b[0;34m.\u001b[0m\u001b[0mjoin\u001b[0m\u001b[0;34m(\u001b[0m\u001b[0mrisk_path\u001b[0m\u001b[0;34m,\u001b[0m \u001b[0mimage_file\u001b[0m\u001b[0;34m)\u001b[0m\u001b[0;34m)\u001b[0m\u001b[0;34m\u001b[0m\u001b[0;34m\u001b[0m\u001b[0m\n\u001b[1;32m     16\u001b[0m             \u001b[0;32mif\u001b[0m \u001b[0mimage\u001b[0m\u001b[0;34m.\u001b[0m\u001b[0mmode\u001b[0m \u001b[0;34m==\u001b[0m \u001b[0;34m'RGBA'\u001b[0m\u001b[0;34m:\u001b[0m\u001b[0;34m\u001b[0m\u001b[0;34m\u001b[0m\u001b[0m\n",
            "\u001b[0;31mFileNotFoundError\u001b[0m: [Errno 2] No such file or directory: '/content/drive/MyDrive/Dataset/Tablet_Sheets/High_Risk'"
          ]
        }
      ]
    },
    {
      "cell_type": "code",
      "source": [
        "from google.colab import drive\n",
        "drive.mount('/content/drive')"
      ],
      "metadata": {
        "id": "LtCGDF9NlCJd"
      },
      "execution_count": null,
      "outputs": []
    },
    {
      "cell_type": "code",
      "source": [
        "# DataLoader\n",
        "batch_size = 16\n",
        "train_loader = DataLoader(train_dataset, batch_size=batch_size, shuffle=True)\n",
        "val_loader = DataLoader(val_dataset, batch_size=batch_size, shuffle=False)\n",
        "test_loader = DataLoader(test_dataset, batch_size=batch_size, shuffle=False)"
      ],
      "metadata": {
        "id": "_L_p4ywbvbsN"
      },
      "execution_count": null,
      "outputs": []
    },
    {
      "cell_type": "code",
      "source": [
        "# Load ViT feature extractor and model for ViT-B/32\n",
        "feature_extractor = ViTFeatureExtractor.from_pretrained('google/vit-base-patch32-224-in21k')\n",
        "model = ViTForImageClassification.from_pretrained('google/vit-base-patch32-224-in21k', num_labels=len(risks)).to(device)"
      ],
      "metadata": {
        "id": "l5QndYKJve8s"
      },
      "execution_count": null,
      "outputs": []
    },
    {
      "cell_type": "code",
      "source": [
        "# Training loop\n",
        "optimizer = optim.Adam(model.parameters(), lr=1e-4)\n",
        "criterion = nn.CrossEntropyLoss()\n",
        "\n",
        "# Lists to store losses\n",
        "train_losses = []\n",
        "val_losses = []\n",
        "\n",
        "for epoch in range(20):  # Train for 20 epochs\n",
        "    model.train()\n",
        "    running_loss = 0.0\n",
        "    correct = 0\n",
        "    total = 0\n",
        "    for inputs, labels in train_loader:\n",
        "        inputs, labels = inputs.to(device), labels.to(device)\n",
        "        optimizer.zero_grad()\n",
        "        outputs = model(pixel_values=inputs)\n",
        "        loss = criterion(outputs.logits, labels)\n",
        "        loss.backward()\n",
        "        optimizer.step()\n",
        "        running_loss += loss.item()\n",
        "        _, predicted = outputs.logits.max(1)\n",
        "        total += labels.size(0)\n",
        "        correct += predicted.eq(labels).sum().item()\n",
        "    train_loss = running_loss / len(train_loader)\n",
        "    train_acc = correct / total\n",
        "    train_losses.append(train_loss)\n",
        "\n",
        "    # Validation loop\n",
        "    model.eval()\n",
        "    val_loss = 0.0\n",
        "    correct = 0\n",
        "    total = 0\n",
        "    with torch.no_grad():\n",
        "        for inputs, labels in val_loader:\n",
        "            inputs, labels = inputs.to(device), labels.to(device)\n",
        "            outputs = model(pixel_values=inputs)\n",
        "            loss = criterion(outputs.logits, labels)\n",
        "            val_loss += loss.item()\n",
        "            _, predicted = outputs.logits.max(1)\n",
        "            total += labels.size(0)\n",
        "            correct += predicted.eq(labels).sum().item()\n",
        "    val_loss /= len(val_loader)\n",
        "    val_acc = correct / total\n",
        "    val_losses.append(val_loss)\n",
        "\n",
        "    print(f'Epoch [{epoch+1}/20], Train Loss: {train_loss:.4f}, Train Acc: {train_acc:.4f}, Val Loss: {val_loss:.4f}, Val Acc: {val_acc:.4f}')\n"
      ],
      "metadata": {
        "colab": {
          "base_uri": "https://localhost:8080/"
        },
        "id": "ZEgjTO1xvhQ0",
        "outputId": "47990eaa-6037-4381-dde4-938b4a6da962"
      },
      "execution_count": null,
      "outputs": [
        {
          "output_type": "stream",
          "name": "stdout",
          "text": [
            "Epoch [1/20], Train Loss: 1.0626, Train Acc: 0.3810, Val Loss: 0.9842, Val Acc: 0.6190\n",
            "Epoch [2/20], Train Loss: 0.7616, Train Acc: 0.9603, Val Loss: 0.8359, Val Acc: 0.7143\n",
            "Epoch [3/20], Train Loss: 0.5001, Train Acc: 1.0000, Val Loss: 0.6722, Val Acc: 0.7619\n",
            "Epoch [4/20], Train Loss: 0.2899, Train Acc: 0.9921, Val Loss: 0.6217, Val Acc: 0.7381\n",
            "Epoch [5/20], Train Loss: 0.1519, Train Acc: 1.0000, Val Loss: 0.5302, Val Acc: 0.7857\n",
            "Epoch [6/20], Train Loss: 0.0911, Train Acc: 1.0000, Val Loss: 0.6160, Val Acc: 0.7857\n",
            "Epoch [7/20], Train Loss: 0.0644, Train Acc: 1.0000, Val Loss: 0.6517, Val Acc: 0.7619\n",
            "Epoch [8/20], Train Loss: 0.0504, Train Acc: 1.0000, Val Loss: 0.6363, Val Acc: 0.7619\n",
            "Epoch [9/20], Train Loss: 0.0425, Train Acc: 1.0000, Val Loss: 0.6804, Val Acc: 0.7857\n",
            "Epoch [10/20], Train Loss: 0.0371, Train Acc: 1.0000, Val Loss: 0.6887, Val Acc: 0.8095\n",
            "Epoch [11/20], Train Loss: 0.0333, Train Acc: 1.0000, Val Loss: 0.6835, Val Acc: 0.7857\n",
            "Epoch [12/20], Train Loss: 0.0304, Train Acc: 1.0000, Val Loss: 0.7035, Val Acc: 0.7857\n",
            "Epoch [13/20], Train Loss: 0.0280, Train Acc: 1.0000, Val Loss: 0.7091, Val Acc: 0.7857\n",
            "Epoch [14/20], Train Loss: 0.0260, Train Acc: 1.0000, Val Loss: 0.7155, Val Acc: 0.7857\n",
            "Epoch [15/20], Train Loss: 0.0244, Train Acc: 1.0000, Val Loss: 0.7275, Val Acc: 0.7857\n",
            "Epoch [16/20], Train Loss: 0.0229, Train Acc: 1.0000, Val Loss: 0.7366, Val Acc: 0.7857\n",
            "Epoch [17/20], Train Loss: 0.0216, Train Acc: 1.0000, Val Loss: 0.7464, Val Acc: 0.7857\n",
            "Epoch [18/20], Train Loss: 0.0204, Train Acc: 1.0000, Val Loss: 0.7572, Val Acc: 0.7857\n",
            "Epoch [19/20], Train Loss: 0.0194, Train Acc: 1.0000, Val Loss: 0.7648, Val Acc: 0.7857\n",
            "Epoch [20/20], Train Loss: 0.0184, Train Acc: 1.0000, Val Loss: 0.7723, Val Acc: 0.7857\n"
          ]
        }
      ]
    },
    {
      "cell_type": "code",
      "source": [
        "# Plotting training and validation loss\n",
        "plt.plot(train_losses, label='Train Loss')\n",
        "plt.plot(val_losses, label='Validation Loss')\n",
        "plt.xlabel('Epoch')\n",
        "plt.ylabel('Loss')\n",
        "plt.title('Training and Validation Loss')\n",
        "plt.legend()\n",
        "plt.show()"
      ],
      "metadata": {
        "colab": {
          "base_uri": "https://localhost:8080/",
          "height": 472
        },
        "id": "JqoYrfMsvjbD",
        "outputId": "d1b624ed-0d0a-4c90-8bbb-91d4d4207971"
      },
      "execution_count": null,
      "outputs": [
        {
          "output_type": "display_data",
          "data": {
            "text/plain": [
              "<Figure size 640x480 with 1 Axes>"
            ],
            "image/png": "[encoded data removed]"
          },
          "metadata": {}
        }
      ]
    },
    {
      "cell_type": "code",
      "source": [
        "# Testing loop\n",
        "test_loss = 0.0\n",
        "correct = 0\n",
        "total = 0\n",
        "predicted_labels = []\n",
        "true_labels = []\n",
        "model.eval()\n",
        "with torch.no_grad():\n",
        "    for inputs, labels in test_loader:\n",
        "        inputs, labels = inputs.to(device), labels.to(device)\n",
        "        outputs = model(pixel_values=inputs)\n",
        "        loss = criterion(outputs.logits, labels)\n",
        "        test_loss += loss.item()\n",
        "        _, predicted = outputs.logits.max(1)\n",
        "        total += labels.size(0)\n",
        "        correct += predicted.eq(labels).sum().item()\n",
        "        predicted_labels.extend(predicted.cpu().numpy())\n",
        "        true_labels.extend(labels.cpu().numpy())\n",
        "test_loss /= len(test_loader)\n",
        "test_acc = correct / total\n",
        "\n",
        "print(f'Test Loss: {test_loss:.4f}, Test Acc: {test_acc:.4f}')"
      ],
      "metadata": {
        "colab": {
          "base_uri": "https://localhost:8080/"
        },
        "id": "MUIw3WYUvltH",
        "outputId": "27a14858-6982-4e6b-f537-d86e98e70a83"
      },
      "execution_count": null,
      "outputs": [
        {
          "output_type": "stream",
          "name": "stdout",
          "text": [
            "Test Loss: 1.0310, Test Acc: 0.6905\n"
          ]
        }
      ]
    },
    {
      "cell_type": "code",
      "source": [
        "# Confusion matrix\n",
        "conf_matrix = confusion_matrix(true_labels, predicted_labels)\n",
        "plt.figure(figsize=(8, 6))\n",
        "sns.heatmap(conf_matrix, annot=True, fmt='d', cmap='Blues', xticklabels=risks, yticklabels=risks)\n",
        "plt.xlabel('Predicted Label')\n",
        "plt.ylabel('True Label')\n",
        "plt.title('Confusion Matrix')\n",
        "plt.show()"
      ],
      "metadata": {
        "colab": {
          "base_uri": "https://localhost:8080/",
          "height": 564
        },
        "id": "BnraLPE-vo8L",
        "outputId": "8d131904-ab2f-488f-90fd-30beca54af41"
      },
      "execution_count": null,
      "outputs": [
        {
          "output_type": "display_data",
          "data": {
            "text/plain": [
              "<Figure size 800x600 with 2 Axes>"
            ],
            "image/png": "[encoded data removed]"
          },
          "metadata": {}
        }
      ]
    },
    {
      "cell_type": "code",
      "source": [
        "print(f'Size of the training set : {train_size} ')\n",
        "print(f'Size of the validation set : {val_size}')\n",
        "print(f'Size of the testing set : {test_size}')"
      ],
      "metadata": {
        "colab": {
          "base_uri": "https://localhost:8080/"
        },
        "id": "tDF_jg0Mw5-e",
        "outputId": "7673a3a8-4c69-4192-a8b3-837d136d8df0"
      },
      "execution_count": null,
      "outputs": [
        {
          "output_type": "stream",
          "name": "stdout",
          "text": [
            "Size of the training set : 126 \n",
            "Size of the validation set : 42\n",
            "Size of the testing set : 42\n"
          ]
        }
      ]
    },
    {
      "cell_type": "code",
      "source": [],
      "metadata": {
        "id": "tZITykrFxlHg"
      },
      "execution_count": null,
      "outputs": []
    },
    {
      "cell_type": "markdown",
      "source": [
        "# For 40 Epochs"
      ],
      "metadata": {
        "id": "QUyyJDnCVBzA"
      }
    },
    {
      "cell_type": "code",
      "source": [
        "# Training loop\n",
        "optimizer = optim.Adam(model.parameters(), lr=1e-4)\n",
        "criterion = nn.CrossEntropyLoss()\n",
        "\n",
        "# Lists to store losses\n",
        "train_losses = []\n",
        "val_losses = []\n",
        "\n",
        "for epoch in range(40):  # Train for 20 epochs\n",
        "    model.train()\n",
        "    running_loss = 0.0\n",
        "    correct = 0\n",
        "    total = 0\n",
        "    for inputs, labels in train_loader:\n",
        "        inputs, labels = inputs.to(device), labels.to(device)\n",
        "        optimizer.zero_grad()\n",
        "        outputs = model(pixel_values=inputs)\n",
        "        loss = criterion(outputs.logits, labels)\n",
        "        loss.backward()\n",
        "        optimizer.step()\n",
        "        running_loss += loss.item()\n",
        "        _, predicted = outputs.logits.max(1)\n",
        "        total += labels.size(0)\n",
        "        correct += predicted.eq(labels).sum().item()\n",
        "    train_loss = running_loss / len(train_loader)\n",
        "    train_acc = correct / total\n",
        "    train_losses.append(train_loss)\n",
        "\n",
        "    # Validation loop\n",
        "    model.eval()\n",
        "    val_loss = 0.0\n",
        "    correct = 0\n",
        "    total = 0\n",
        "    with torch.no_grad():\n",
        "        for inputs, labels in val_loader:\n",
        "            inputs, labels = inputs.to(device), labels.to(device)\n",
        "            outputs = model(pixel_values=inputs)\n",
        "            loss = criterion(outputs.logits, labels)\n",
        "            val_loss += loss.item()\n",
        "            _, predicted = outputs.logits.max(1)\n",
        "            total += labels.size(0)\n",
        "            correct += predicted.eq(labels).sum().item()\n",
        "    val_loss /= len(val_loader)\n",
        "    val_acc = correct / total\n",
        "    val_losses.append(val_loss)\n",
        "\n",
        "    print(f'Epoch [{epoch+1}/20], Train Loss: {train_loss:.4f}, Train Acc: {train_acc:.4f}, Val Loss: {val_loss:.4f}, Val Acc: {val_acc:.4f}')\n"
      ],
      "metadata": {
        "id": "DiiULuVLVEEi"
      },
      "execution_count": null,
      "outputs": []
    },
    {
      "cell_type": "code",
      "source": [
        "# Training loop\n",
        "optimizer = optim.Adam(model.parameters(), lr=1e-4)\n",
        "criterion = nn.CrossEntropyLoss()\n",
        "\n",
        "# Lists to store losses\n",
        "train_losses = []\n",
        "val_losses = []\n",
        "\n",
        "for epoch in range(20):  # Train for 20 epochs\n",
        "    model.train()\n",
        "    running_loss = 0.0\n",
        "    correct = 0\n",
        "    total = 0\n",
        "    for inputs, labels in train_loader:\n",
        "        inputs, labels = inputs.to(device), labels.to(device)\n",
        "        optimizer.zero_grad()\n",
        "        outputs = model(pixel_values=inputs)\n",
        "        loss = criterion(outputs.logits, labels)\n",
        "        loss.backward()\n",
        "        optimizer.step()\n",
        "        running_loss += loss.item()\n",
        "        _, predicted = outputs.logits.max(1)\n",
        "        total += labels.size(0)\n",
        "        correct += predicted.eq(labels).sum().item()\n",
        "    train_loss = running_loss / len(train_loader)\n",
        "    train_acc = correct / total\n",
        "    train_losses.append(train_loss)\n",
        "\n",
        "    # Validation loop\n",
        "    model.eval()\n",
        "    val_loss = 0.0\n",
        "    correct = 0\n",
        "    total = 0\n",
        "    with torch.no_grad():\n",
        "        for inputs, labels in val_loader:\n",
        "            inputs, labels = inputs.to(device), labels.to(device)\n",
        "            outputs = model(pixel_values=inputs)\n",
        "            loss = criterion(outputs.logits, labels)\n",
        "            val_loss += loss.item()\n",
        "            _, predicted = outputs.logits.max(1)\n",
        "            total += labels.size(0)\n",
        "            correct += predicted.eq(labels).sum().item()\n",
        "    val_loss /= len(val_loader)\n",
        "    val_acc = correct / total\n",
        "    val_losses.append(val_loss)\n",
        "\n",
        "    print(f'Epoch [{epoch+1}/20], Train Loss: {train_loss:.4f}, Train Acc: {train_acc:.4f}, Val Loss: {val_loss:.4f}, Val Acc: {val_acc:.4f}')\n"
      ],
      "metadata": {
        "id": "UxfVw5_xVH7d"
      },
      "execution_count": null,
      "outputs": []
    },
    {
      "cell_type": "code",
      "source": [
        "# Plotting training and validation loss\n",
        "plt.plot(train_losses, label='Train Loss')\n",
        "plt.plot(val_losses, label='Validation Loss')\n",
        "plt.xlabel('Epoch')\n",
        "plt.ylabel('Loss')\n",
        "plt.title('Training and Validation Loss')\n",
        "plt.legend()\n",
        "plt.show()"
      ],
      "metadata": {
        "id": "oHehHmgUVKOf"
      },
      "execution_count": null,
      "outputs": []
    },
    {
      "cell_type": "code",
      "source": [
        "# Testing loop\n",
        "test_loss = 0.0\n",
        "correct = 0\n",
        "total = 0\n",
        "predicted_labels = []\n",
        "true_labels = []\n",
        "model.eval()\n",
        "with torch.no_grad():\n",
        "    for inputs, labels in test_loader:\n",
        "        inputs, labels = inputs.to(device), labels.to(device)\n",
        "        outputs = model(pixel_values=inputs)\n",
        "        loss = criterion(outputs.logits, labels)\n",
        "        test_loss += loss.item()\n",
        "        _, predicted = outputs.logits.max(1)\n",
        "        total += labels.size(0)\n",
        "        correct += predicted.eq(labels).sum().item()\n",
        "        predicted_labels.extend(predicted.cpu().numpy())\n",
        "        true_labels.extend(labels.cpu().numpy())\n",
        "test_loss /= len(test_loader)\n",
        "test_acc = correct / total\n",
        "\n",
        "print(f'Test Loss: {test_loss:.4f}, Test Acc: {test_acc:.4f}')"
      ],
      "metadata": {
        "id": "kzk0piqlVZus"
      },
      "execution_count": null,
      "outputs": []
    },
    {
      "cell_type": "code",
      "source": [
        "# Confusion matrix\n",
        "conf_matrix = confusion_matrix(true_labels, predicted_labels)\n",
        "plt.figure(figsize=(8, 6))\n",
        "sns.heatmap(conf_matrix, annot=True, fmt='d', cmap='Blues', xticklabels=risks, yticklabels=risks)\n",
        "plt.xlabel('Predicted Label')\n",
        "plt.ylabel('True Label')\n",
        "plt.title('Confusion Matrix')\n",
        "plt.show()"
      ],
      "metadata": {
        "id": "5ji4wQWrVh94"
      },
      "execution_count": null,
      "outputs": []
    }
  ]
}